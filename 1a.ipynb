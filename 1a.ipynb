{
 "cells": [
  {
   "cell_type": "code",
   "execution_count": null,
   "metadata": {},
   "outputs": [],
   "source": [
    "import pandas as pd\n",
    "import numpy as np\n",
    "import matplotlib.pyplot as plt\n",
    "import seaborn as sns\n",
    "\n",
    "from sklearn import metrics\n",
    "from sklearn.ensemble import RandomForestClassifier\n",
    "from sklearn.model_selection import train_test_split\n",
    "from sklearn.metrics import accuracy_score\n",
    "from sklearn.metrics import confusion_matrix\n",
    "from sklearn import preprocessing"
   ]
  },
  {
   "cell_type": "code",
   "execution_count": null,
   "metadata": {},
   "outputs": [],
   "source": [
    "df=pd.read_csv(\"dataset_sdn.csv\")\n",
    "df"
   ]
  },
  {
   "cell_type": "code",
   "execution_count": null,
   "metadata": {},
   "outputs": [],
   "source": [
    "df.info()"
   ]
  },
  {
   "cell_type": "code",
   "execution_count": null,
   "metadata": {},
   "outputs": [],
   "source": [
    "df.describe()"
   ]
  },
  {
   "cell_type": "code",
   "execution_count": null,
   "metadata": {},
   "outputs": [],
   "source": [
    "column_names= df.columns\n",
    "column_names"
   ]
  },
  {
   "cell_type": "code",
   "execution_count": null,
   "metadata": {},
   "outputs": [],
   "source": [
    "df.isnull().sum().plot.bar()\n",
    "plt.title(\"NULL Values for each column \")\n",
    "plt.xlabel(\"Column names\")\n",
    "plt.ylabel(\"Count\")"
   ]
  },
  {
   "cell_type": "code",
   "execution_count": null,
   "metadata": {},
   "outputs": [],
   "source": [
    "df=df.dropna()"
   ]
  },
  {
   "cell_type": "code",
   "execution_count": null,
   "metadata": {},
   "outputs": [],
   "source": [
    "df.info()"
   ]
  },
  {
   "cell_type": "code",
   "execution_count": null,
   "metadata": {},
   "outputs": [],
   "source": [
    "y=df['label']\n",
    "x=df.drop(['label'],axis=1)\n",
    "x_train,x_test,y_train,y_test=train_test_split(x,y,random_state=104,test_size=0.2)\n",
    "train_data=pd.concat([x_train,y_train],axis=1,join='inner')\n",
    "\n",
    "correl=train_data.corr(numeric_only=True)['label'].sort_values()\n",
    "correl.drop('label',inplace=True)"
   ]
  },
  {
   "cell_type": "code",
   "execution_count": null,
   "metadata": {},
   "outputs": [],
   "source": [
    "selected=correl.loc[abs(correl)>0.08]\n",
    "attr_selected=list(selected.index)\n",
    "print(attr_selected)\n"
   ]
  },
  {
   "cell_type": "code",
   "execution_count": null,
   "metadata": {},
   "outputs": [],
   "source": [
    "norm_x_train_data=(x_train.select_dtypes(include=['float64','int64'])-x_train.min(numeric_only=True))\n",
    "norm_x_test_data=(x_test.select_dtypes(include=['float64','int64'])-x_test.min(numeric_only=True))\n",
    "norm_x_train_data=preprocessing.scale(norm_x_train_data[attr_selected])\n",
    "norm_x_test_data=preprocessing.scale(norm_x_test_data[attr_selected])\n",
    "\n",
    "norm_x_train_data.shape\n",
    "y_train.shape"
   ]
  },
  {
   "cell_type": "code",
   "execution_count": null,
   "metadata": {},
   "outputs": [],
   "source": [
    "train_x,val_x,train_y,val_y=train_test_split(norm_x_train_data,y_train,stratify=y_train,test_size=0.2,random_state=0)"
   ]
  },
  {
   "cell_type": "code",
   "execution_count": null,
   "metadata": {},
   "outputs": [],
   "source": [
    "from sklearn.naive_bayes import GaussianNB\n",
    "nb=GaussianNB()\n",
    "nb.fit(norm_x_train_data,y_train)\n",
    "nb.score(norm_x_test_data,y_test)\n"
   ]
  },
  {
   "cell_type": "code",
   "execution_count": null,
   "metadata": {},
   "outputs": [],
   "source": [
    "from sklearn.neighbors import KNeighborsClassifier\n",
    "knn=KNeighborsClassifier()\n",
    "\n",
    "knn.fit(norm_x_train_data,y_train)\n",
    "knn.score(norm_x_test_data,y_test)"
   ]
  },
  {
   "cell_type": "code",
   "execution_count": null,
   "metadata": {},
   "outputs": [],
   "source": [
    "from sklearn.svm import SVC\n",
    "svc=SVC()\n",
    "\n",
    "svc.fit(norm_x_train_data,y_train)\n",
    "svc.score(norm_x_test_data,y_test)"
   ]
  },
  {
   "attachments": {},
   "cell_type": "markdown",
   "metadata": {},
   "source": [
    "HYBRID MODEL TESTING\n"
   ]
  },
  {
   "cell_type": "code",
   "execution_count": null,
   "metadata": {},
   "outputs": [],
   "source": [
    "train_x,val_x,train_y,val_y=train_test_split(norm_x_train_data,y_train,stratify=y_train,test_size=0.3,random_state=0)"
   ]
  },
  {
   "cell_type": "code",
   "execution_count": null,
   "metadata": {},
   "outputs": [],
   "source": [
    "print(norm_x_train_data.shape,norm_x_test_data.shape)"
   ]
  },
  {
   "cell_type": "code",
   "execution_count": null,
   "metadata": {},
   "outputs": [],
   "source": [
    "model1=SVC(kernel='rbf',gamma='auto')\n",
    "model1.fit(train_x,train_y)\n",
    "svc_val_pred=model1.predict(val_x)\n",
    "svc_val_pred=pd.DataFrame(svc_val_pred)\n",
    "\n",
    "svc_test_pred=model1.predict(norm_x_test_data)\n",
    "svc_test_pred=pd.DataFrame(svc_val_pred)"
   ]
  },
  {
   "cell_type": "code",
   "execution_count": null,
   "metadata": {},
   "outputs": [],
   "source": [
    "model2=KNeighborsClassifier(n_neighbors=5)\n",
    "model2.fit(train_x,train_y)\n",
    "knn_val_pred=model1.predict(val_x)\n",
    "knn_val_pred=pd.DataFrame(knn_val_pred)\n",
    "\n",
    "knn_test_pred=model1.predict(norm_x_test_data)\n",
    "knn_test_pred=pd.DataFrame(knn_val_pred)"
   ]
  },
  {
   "cell_type": "code",
   "execution_count": null,
   "metadata": {},
   "outputs": [],
   "source": [
    "model3=GaussianNB()\n",
    "model3.fit(train_x,train_y)\n",
    "nb_val_pred=model1.predict(val_x)\n",
    "nb_val_pred=pd.DataFrame(nb_val_pred)\n",
    "\n",
    "nb_test_pred=model1.predict(norm_x_test_data)\n",
    "nb_test_pred=pd.DataFrame(nb_val_pred)"
   ]
  },
  {
   "cell_type": "code",
   "execution_count": null,
   "metadata": {},
   "outputs": [],
   "source": [
    "val_input=pd.concat([pd.DataFrame(val_x,columns=column_names),knn_val_pred,svc_val_pred,nb_val_pred],axis=1)\n",
    "test_input=pd.concat([pd.DataFrame(x_test,column_names),knn_test_pred,svc_test_pred,nb_test_pred],axis=1)"
   ]
  },
  {
   "cell_type": "code",
   "execution_count": null,
   "metadata": {},
   "outputs": [],
   "source": [
    "model=RandomForestClassifier()\n",
    "model.fit(val_input,val_y)\n",
    "# y_pred=model.predict(x_test)\n",
    "print(model.score(test_input,y_test))\n",
    "# print(metrics.accuracy_score(test_input,y_pred))"
   ]
  }
 ],
 "metadata": {
  "kernelspec": {
   "display_name": "Python 3",
   "language": "python",
   "name": "python3"
  },
  "language_info": {
   "codemirror_mode": {
    "name": "ipython",
    "version": 3
   },
   "file_extension": ".py",
   "mimetype": "text/x-python",
   "name": "python",
   "nbconvert_exporter": "python",
   "pygments_lexer": "ipython3",
   "version": "3.10.10"
  },
  "orig_nbformat": 4
 },
 "nbformat": 4,
 "nbformat_minor": 2
}
